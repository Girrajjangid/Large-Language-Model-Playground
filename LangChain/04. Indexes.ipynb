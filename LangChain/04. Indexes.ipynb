{
 "cells": [
  {
   "attachments": {},
   "cell_type": "markdown",
   "metadata": {},
   "source": [
    "# 01. Indexes\n",
    "In this notebook we will cover index, their creation, usage and maintainance."
   ]
  },
  {
   "cell_type": "code",
   "execution_count": 2,
   "metadata": {},
   "outputs": [],
   "source": [
    "import os\n",
    "import openai\n",
    "from dotenv import load_dotenv, find_dotenv\n",
    "import langchain as lc\n",
    "\n",
    "import warnings\n",
    "warnings.filterwarnings('ignore')\n",
    "\n",
    "load_dotenv(find_dotenv())\n",
    "openai.api_key = os.environ[\"OPENAI_API_KEY\"]"
   ]
  },
  {
   "attachments": {},
   "cell_type": "markdown",
   "metadata": {},
   "source": [
    "#### 1.1 Loaders\n",
    "To use our own dataset with LLM, we have to first load them into a vector database. "
   ]
  },
  {
   "cell_type": "code",
   "execution_count": 3,
   "metadata": {},
   "outputs": [
    {
     "name": "stderr",
     "output_type": "stream",
     "text": [
      "100%|██████████| 3/3 [00:00<00:00, 292.73it/s]\n"
     ]
    }
   ],
   "source": [
    "# Let assume we have some FAQ documents. and we want to use them\n",
    "# when someone query to AI.\n",
    "loader = lc.document_loaders.DirectoryLoader( \"./FAQ\",\n",
    "                                             glob=\"**/*.txt\",\n",
    "                                             loader_cls=lc.document_loaders.TextLoader,\n",
    "                                             show_progress=True)\n",
    "docs = loader.load() # It should load 3 files."
   ]
  },
  {
   "attachments": {},
   "cell_type": "markdown",
   "metadata": {},
   "source": [
    "#### 1.2 Text Splitter\n",
    "Now we have to create the chunk of text. So that we have enough data."
   ]
  },
  {
   "cell_type": "code",
   "execution_count": 7,
   "metadata": {},
   "outputs": [
    {
     "data": {
      "text/plain": [
       "[Document(page_content='Q: What are the hours of operation for your restaurant?\\nA: Our restaurant is open from 11 a.m. to 10 p.m. from Monday to Saturday. On Sundays, we open at 12 p.m. and close at 9 p.m.\\n\\nQ: What type of cuisine does your restaurant serve?\\nA: Our restaurant specializes in contemporary American cuisine with an emphasis on local and sustainable ingredients.', metadata={'source': 'FAQ\\\\General.txt'}),\n",
       " Document(page_content='Q: Do you offer vegetarian or vegan options?\\nA: Yes, we have a range of dishes to cater to vegetarians and vegans. Please let our staff know about any dietary restrictions you have when you order.', metadata={'source': 'FAQ\\\\General.txt'}),\n",
       " Document(page_content=\"Q: What are the ingredients in your gluten-free options?\\nA: Our gluten-free dishes are prepared using a variety of ingredients that don't contain gluten. Some options include our Quinoa Salad and our Grilled Chicken with Roasted Vegetables.\", metadata={'source': 'FAQ\\\\Health.txt'}),\n",
       " Document(page_content='Q: What steps is your restaurant taking to ensure safety amid the ongoing pandemic?\\nA: We adhere to strict health and safety protocols, including regular sanitization, maintaining physical distance between tables, and providing hand sanitizers for customers. We also offer contactless pickup and delivery options.', metadata={'source': 'FAQ\\\\Health.txt'}),\n",
       " Document(page_content=\"Q: Can I request alterations to a dish due to allergies?\\nA: Absolutely, we strive to accommodate all of our customers' needs. Please inform our staff about any allergies you have, and we'll do our best to modify the dish accordingly.\", metadata={'source': 'FAQ\\\\Health.txt'}),\n",
       " Document(page_content=\"Q: Can you tell me about your signature dishes?\\nA: Our signature dishes include our locally-sourced Steak with Truffle Butter, and our Seasonal Vegetable Pasta, which changes based on what's fresh and in season.\\n\\nQ: What's included in your Seafood Platter?\\nA: Our Seafood Platter includes a selection of the freshest catch of the day, including oysters, prawns, clams, and grilled fish, served with our house special sauce.\", metadata={'source': 'FAQ\\\\Special.txt'}),\n",
       " Document(page_content='Q: Do you have any specials or promotions running currently?\\nA: Yes, we have a Happy Hour promotion from 3 to 5 p.m. on weekdays, with special prices on selected appetizers and drinks.', metadata={'source': 'FAQ\\\\Special.txt'})]"
      ]
     },
     "execution_count": 7,
     "metadata": {},
     "output_type": "execute_result"
    }
   ],
   "source": [
    "text_splitter = lc.text_splitter.RecursiveCharacterTextSplitter(\n",
    "    chunk_size=500,\n",
    "    chunk_overlap=100)\n",
    "\n",
    "documents = text_splitter.split_documents(docs)\n",
    "documents"
   ]
  },
  {
   "attachments": {},
   "cell_type": "markdown",
   "metadata": {},
   "source": [
    "#### 1.3 Embeddings\n",
    "Now time to convert our text into OpenAI embedding or any LLM embedding."
   ]
  },
  {
   "cell_type": "code",
   "execution_count": 8,
   "metadata": {},
   "outputs": [],
   "source": [
    "embeddings = lc.embeddings.OpenAIEmbeddings()"
   ]
  },
  {
   "attachments": {},
   "cell_type": "markdown",
   "metadata": {},
   "source": [
    "#### 1.4 Loading Text Embedding (Vectors) into VectorDB using (FAISS)"
   ]
  },
  {
   "cell_type": "code",
   "execution_count": 12,
   "metadata": {},
   "outputs": [
    {
     "name": "stdout",
     "output_type": "stream",
     "text": [
      "Collecting faiss-cpu\n",
      "  Downloading faiss_cpu-1.7.4-cp39-cp39-win_amd64.whl (10.8 MB)\n",
      "     ---------------------------------------- 10.8/10.8 MB 2.6 MB/s eta 0:00:00\n",
      "Installing collected packages: faiss-cpu\n",
      "Successfully installed faiss-cpu-1.7.4\n"
     ]
    }
   ],
   "source": [
    "!pip install faiss-cpu"
   ]
  },
  {
   "cell_type": "code",
   "execution_count": 23,
   "metadata": {},
   "outputs": [],
   "source": [
    "import pickle\n",
    "\n",
    "vectorstore = lc.vectorstores.FAISS.from_documents(documents, embeddings)\n",
    "\n",
    "with open(\"vectorstore.pkl\", \"wb\") as f:\n",
    "    pickle.dump(vectorstore, f)"
   ]
  },
  {
   "attachments": {},
   "cell_type": "markdown",
   "metadata": {},
   "source": [
    "#### 1.5 Loading the Database"
   ]
  },
  {
   "cell_type": "code",
   "execution_count": 25,
   "metadata": {},
   "outputs": [],
   "source": [
    "# Although it already loaded.\n",
    "\n",
    "with open(\"vectorstore.pkl\", \"rb\") as f:\n",
    "    vectorstore = pickle.load(f)"
   ]
  },
  {
   "attachments": {},
   "cell_type": "markdown",
   "metadata": {},
   "source": [
    "#### 1.6 Prompts\n",
    "We can define the starting point of conversation as well."
   ]
  },
  {
   "cell_type": "code",
   "execution_count": 26,
   "metadata": {},
   "outputs": [],
   "source": [
    "prompt_template = \"\"\"You are a helpful assistant for our restaurant.\n",
    "\n",
    "{context}\n",
    "\n",
    "Question: {question}\n",
    "Answer here:\"\"\"\n",
    "PROMPT = lc.PromptTemplate(\n",
    "    template=prompt_template, \n",
    "    input_variables=[\"context\", \"question\"]\n",
    ")"
   ]
  },
  {
   "attachments": {},
   "cell_type": "markdown",
   "metadata": {},
   "source": [
    "#### 1.6 Chains\n",
    "With chains we can manipulate the I/O of the LLM"
   ]
  },
  {
   "cell_type": "code",
   "execution_count": 27,
   "metadata": {},
   "outputs": [
    {
     "data": {
      "text/plain": [
       "' Our restaurant is open from 11 a.m. to 10 p.m. from Monday to Saturday. On Sundays, we open at 12 p.m. and close at 9 p.m.'"
      ]
     },
     "execution_count": 27,
     "metadata": {},
     "output_type": "execute_result"
    }
   ],
   "source": [
    "llm = lc.OpenAI()\n",
    "qa = lc.chains.RetrievalQA.from_chain_type(llm=llm,\n",
    "                                           chain_type='stuff',\n",
    "                                           retriever=vectorstore.as_retriever(),\n",
    "                                           chain_type_kwargs={\"prompt\":PROMPT})\n",
    "query = \"When does the restaurant open?\"\n",
    "qa.run(query)"
   ]
  },
  {
   "attachments": {},
   "cell_type": "markdown",
   "metadata": {},
   "source": [
    "#### 1.7 Memory\n",
    "In the example just shown, each request stands alone. A great strength of an LLM, however, is that it can take the entire chat history into account when responding. For this, however, a chat history must be built up from the different questions and answers. With different memory classes this is very easy in Langchain."
   ]
  },
  {
   "cell_type": "code",
   "execution_count": 28,
   "metadata": {},
   "outputs": [],
   "source": [
    "memory = lc.memory.ConversationBufferMemory(\n",
    "    memory_key='chat_history',\n",
    "    return_messages=True,\n",
    "    output_key=\"answer\")"
   ]
  },
  {
   "attachments": {},
   "cell_type": "markdown",
   "metadata": {},
   "source": [
    "#### 1.8. Use Memory in Chains\n",
    "The memory class can now easily be used in a chain. This is recognizable, for example, by the fact that when one speaks of \"it\", the bot understands the rabbit in this context."
   ]
  },
  {
   "cell_type": "code",
   "execution_count": 29,
   "metadata": {},
   "outputs": [
    {
     "data": {
      "text/plain": [
       "{'question': 'How much does it cost?',\n",
       " 'chat_history': [HumanMessage(content='Do you offer vegan food?', additional_kwargs={}, example=False),\n",
       "  AIMessage(content=' Yes, we have a range of vegan-friendly dishes, including salads, soups, and entrees. Please let our staff know about any dietary restrictions you have when you order.', additional_kwargs={}, example=False),\n",
       "  HumanMessage(content='How much does it cost?', additional_kwargs={}, example=False),\n",
       "  AIMessage(content=' The price of our vegan-friendly dishes varies depending on the ingredients used. Please ask our staff for the exact prices when you order.', additional_kwargs={}, example=False)],\n",
       " 'answer': ' The price of our vegan-friendly dishes varies depending on the ingredients used. Please ask our staff for the exact prices when you order.'}"
      ]
     },
     "execution_count": 29,
     "metadata": {},
     "output_type": "execute_result"
    }
   ],
   "source": [
    "# We cannot use memory with all type of chains. So we are using\n",
    "# ConversationalRetrievalChain here for memory\n",
    "\n",
    "qa = lc.chains.ConversationalRetrievalChain.from_llm(\n",
    "    llm=llm,\n",
    "    memory=memory,\n",
    "    retriever=vectorstore.as_retriever(),\n",
    "    combine_docs_chain_kwargs={\"prompt\": PROMPT},\n",
    ")\n",
    "\n",
    "\n",
    "query = \"Do you offer vegan food?\"\n",
    "qa({\"question\": query})\n",
    "qa({\"question\": \"How much does it cost?\"})"
   ]
  },
  {
   "cell_type": "code",
   "execution_count": null,
   "metadata": {},
   "outputs": [],
   "source": []
  }
 ],
 "metadata": {
  "kernelspec": {
   "display_name": "sentinel",
   "language": "python",
   "name": "python3"
  },
  "language_info": {
   "codemirror_mode": {
    "name": "ipython",
    "version": 3
   },
   "file_extension": ".py",
   "mimetype": "text/x-python",
   "name": "python",
   "nbconvert_exporter": "python",
   "pygments_lexer": "ipython3",
   "version": "3.9.13"
  },
  "orig_nbformat": 4
 },
 "nbformat": 4,
 "nbformat_minor": 2
}
